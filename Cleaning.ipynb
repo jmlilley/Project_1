{
 "cells": [
  {
   "cell_type": "code",
   "execution_count": 35,
   "id": "bbddf2ee",
   "metadata": {},
   "outputs": [],
   "source": [
    "# Import Dependencies\n",
    "import pandas as pd"
   ]
  },
  {
   "cell_type": "code",
   "execution_count": 36,
   "id": "962e7286",
   "metadata": {},
   "outputs": [],
   "source": [
    "# file path\n",
    "details_path = \"MusicDetailsUSA.csv\"\n",
    "ranks_path = \"MusicRanks.csv\"\n",
    "\n",
    "# Import the csvs as a DataFrames\n",
    "details_df = pd.read_csv(details_path, sep=',')\n",
    "ranks_df = pd.read_csv(ranks_path, sep=',')\n",
    "\n",
    "# selecting rows from ranks_df that are for USA\n",
    "us_ranks_df = ranks_df.loc[ranks_df['country'] == 'USA']\n"
   ]
  },
  {
   "cell_type": "code",
   "execution_count": 37,
   "id": "5596ab46",
   "metadata": {},
   "outputs": [],
   "source": [
    "#remove first column without header\n",
    "del us_ranks_df[us_ranks_df.columns[0]]"
   ]
  },
  {
   "cell_type": "code",
   "execution_count": 40,
   "id": "8cc63961",
   "metadata": {},
   "outputs": [],
   "source": [
    "# Drop all rows with missing information for ranks\n",
    "us_ranks_df = us_ranks_df.dropna(how='any')"
   ]
  },
  {
   "cell_type": "code",
   "execution_count": 42,
   "id": "9bd17304",
   "metadata": {
    "scrolled": true
   },
   "outputs": [
    {
     "data": {
      "text/plain": [
       "country_x             280184\n",
       "date                  280184\n",
       "position              280184\n",
       "uri                   280184\n",
       "track                 280184\n",
       "                       ...  \n",
       "Nostalgia             203956\n",
       "Thug                  203956\n",
       "bing_norm_negative    270108\n",
       "bing_norm_neutral     270108\n",
       "bing_norm_positive    270108\n",
       "Length: 119, dtype: int64"
      ]
     },
     "execution_count": 42,
     "metadata": {},
     "output_type": "execute_result"
    }
   ],
   "source": [
    "# Combine the data into a single dataset, left merging the details onto the rank file.  \n",
    "rank_details_df = pd.merge(us_ranks_df, details_df, left_on='uri', right_on='Uri', how='left')\n",
    "rank_details_df.count()"
   ]
  },
  {
   "cell_type": "code",
   "execution_count": 46,
   "id": "5b215751",
   "metadata": {},
   "outputs": [],
   "source": [
    "#Drop redundant columns from combined dataframe\n",
    "clean_music_df = rank_details_df.drop(columns=['country_x', 'uri', 'Popularity', 'Title', 'Artist'])"
   ]
  },
  {
   "cell_type": "code",
   "execution_count": 47,
   "id": "fe0939ed",
   "metadata": {},
   "outputs": [],
   "source": [
    "# Push the remade DataFrame to a new CSV file\n",
    "clean_music_df.to_csv(\"clean_music_file.csv\",\n",
    "                  encoding=\"utf-8\", index=False, header=True)"
   ]
  },
  {
   "cell_type": "code",
   "execution_count": null,
   "id": "c86514eb",
   "metadata": {},
   "outputs": [],
   "source": []
  }
 ],
 "metadata": {
  "kernelspec": {
   "display_name": "Python 3 (ipykernel)",
   "language": "python",
   "name": "python3"
  },
  "language_info": {
   "codemirror_mode": {
    "name": "ipython",
    "version": 3
   },
   "file_extension": ".py",
   "mimetype": "text/x-python",
   "name": "python",
   "nbconvert_exporter": "python",
   "pygments_lexer": "ipython3",
   "version": "3.9.13"
  }
 },
 "nbformat": 4,
 "nbformat_minor": 5
}
